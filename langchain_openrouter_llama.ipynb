{
 "cells": [
  {
   "cell_type": "markdown",
   "id": "1cf1c1f3",
   "metadata": {},
   "source": [
    "# Overview\n",
    "\n",
    "**Oftentimes, we want to test some LLMs that are not widely available or are expensive to host. There are various ways to still get your hands dirty with them.**\n",
    "\n",
    "\n",
    "**In this notebook, I'm showing how to use LangChain's CustomLLM together with <a href=\"https://openrouter.ai/\">OpenRouter.ai</a>'s collection of LLMs (like gpt-4-32k, claude-2, and many more) to use these models in your LangChain apps.**"
   ]
  },
  {
   "cell_type": "markdown",
   "id": "06380a21",
   "metadata": {},
   "source": [
    "### <font color='gray'>Loading libraries and variables</font>"
   ]
  },
  {
   "cell_type": "code",
   "execution_count": 57,
   "id": "547144cf",
   "metadata": {},
   "outputs": [
    {
     "data": {
      "text/plain": [
       "True"
      ]
     },
     "execution_count": 57,
     "metadata": {},
     "output_type": "execute_result"
    }
   ],
   "source": [
    "import os\n",
    "import requests, json\n",
    "from dotenv import load_dotenv\n",
    "import re\n",
    "import zipfile\n",
    "import io\n",
    "from langchain_openai import ChatOpenAI\n",
    "from langchain_core.prompts import ChatPromptTemplate\n",
    "from typing import Any, List, Mapping, Optional\n",
    "from langchain.callbacks.manager import CallbackManagerForLLMRun\n",
    "from langchain.llms.base import LLM\n",
    "from langchain_core.output_parsers import StrOutputParser\n",
    "\n",
    "output_parser = StrOutputParser()\n",
    "load_dotenv()"
   ]
  },
  {
   "cell_type": "code",
   "execution_count": 50,
   "id": "b351134a-3d15-46e2-bf56-72fa649f0252",
   "metadata": {},
   "outputs": [],
   "source": [
    "API_KEY = os.getenv('OPENROUTER_API_KEY')\n",
    "\n",
    "# MODEL = \"phind/phind-codellama-34b\"\n",
    "MODEL = \"meta-llama/llama-3-70b-instruct\""
   ]
  },
  {
   "cell_type": "markdown",
   "id": "c38a7851",
   "metadata": {},
   "source": [
    "# Setting up LLM"
   ]
  },
  {
   "cell_type": "code",
   "execution_count": 51,
   "id": "0958ec7d",
   "metadata": {},
   "outputs": [],
   "source": [
    "llm = ChatOpenAI(openai_api_key=API_KEY, openai_api_base=\"https://openrouter.ai/api/v1\", model_name=MODEL)"
   ]
  },
  {
   "cell_type": "code",
   "execution_count": 52,
   "id": "3b9f39a7-e321-410a-8e3f-8aeb5d58d99b",
   "metadata": {},
   "outputs": [],
   "source": [
    "def get_zip_structure(zip_file_path):\n",
    "    with zipfile.ZipFile(zip_file_path, 'r') as zip_ref:\n",
    "        zip_structure = io.StringIO()\n",
    "        zip_ref.printdir(file=zip_structure)\n",
    "        structure_text = zip_structure.getvalue().strip()\n",
    "    return structure_text"
   ]
  },
  {
   "cell_type": "code",
   "execution_count": null,
   "id": "fdf32836-59df-4984-b514-7bb9dc7aec1c",
   "metadata": {},
   "outputs": [],
   "source": [
    "INSTRUCT_WRAP_CODE = \"Wrap your code in ```python\\n{CODE}\\n```\"\n",
    "INSTRUCT_"
   ]
  },
  {
   "cell_type": "code",
   "execution_count": 60,
   "id": "9b366016",
   "metadata": {},
   "outputs": [
    {
     "name": "stdout",
     "output_type": "stream",
     "text": [
      "\n",
      "import zipfile\n",
      "import img2pdf\n",
      "import os\n",
      "import tempfile\n",
      "\n",
      "# Create a temporary directory to extract the zip file\n",
      "with tempfile.TemporaryDirectory() as temp_dir:\n",
      "    print(\"Extracting zip file to temporary directory...\")\n",
      "    with zipfile.ZipFile('images.zip', 'r') as zip_ref:\n",
      "        zip_ref.extractall(temp_dir)\n",
      "    \n",
      "    # Get a list of image files in the temporary directory\n",
      "    image_files = [os.path.join(temp_dir, f) for f in os.listdir(temp_dir) if f.endswith(('.jpg', '.jpeg'))]\n",
      "    \n",
      "    # Convert the list of images to a PDF\n",
      "    print(\"Converting images to PDF...\")\n",
      "    pdf_bytes = img2pdf.convert(image_files)\n",
      "    \n",
      "    # Save the PDF to a file\n",
      "    with open('output.pdf', 'wb') as f:\n",
      "        f.write(pdf_bytes)\n",
      "    \n",
      "    print(\"PDF saved to output.pdf\")\n",
      "\n"
     ]
    }
   ],
   "source": [
    "input = \"Convert the images in this zip file to a pdf by adding all images contained within to the PDF.\"\n",
    "\n",
    "\n",
    "file = \"images.zip\"\n",
    "\n",
    "prompt = ChatPromptTemplate.from_messages([\n",
    "    (\"system\", \"You are a helpful coding assistant. First write a plan of execution with an outline for how to best execute the assignment, then write the code for the assignment with functional comments and debugging print statements.\"),\n",
    "    (\"user\", \"Assignment: {input}\\nFile: {file}\")\n",
    "])\n",
    "\n",
    "file += \"\\nZip Contents:\\n\" + get_zip_structure(file)\n",
    "\n",
    "chain = prompt | llm | output_parser\n",
    "\n",
    "output = chain.invoke({\"input\": input, \"file\": file})\n",
    "\n",
    "python_code = re.search(r'```python(?s:(.*?))```', output).group(1)\n",
    "\n",
    "print(python_code)"
   ]
  },
  {
   "cell_type": "code",
   "execution_count": 59,
   "id": "4a0d18d7-9561-4957-a4ff-806312540b65",
   "metadata": {},
   "outputs": [
    {
     "data": {
      "text/plain": [
       "'Here is a plan of execution with an outline for how to best execute the assignment:\\n\\n**Plan of Execution**\\n\\nI. Import necessary libraries\\n\\n* `zipfile` to handle the zip file\\n* `img2pdf` to convert images to PDF\\n* `os` to navigate the file system\\n\\nII. Extract images from the zip file\\n\\n* Use `zipfile` to extract the contents of the zip file\\n* Store the extracted images in a list\\n\\nIII. Convert images to PDF\\n\\n* Use `img2pdf` to convert each image in the list to a PDF\\n* Combine the PDFs into a single PDF\\n\\nIV. Save the resulting PDF\\n\\n* Use `os` to save the resulting PDF to the file system\\n\\nHere is the code with functional comments and debugging print statements:\\n```\\nimport zipfile\\nimport img2pdf\\nimport os\\n\\n# Step I: Import necessary libraries\\n\\n# Step II: Extract images from the zip file\\nwith zipfile.ZipFile(\\'images.zip\\', \\'r\\') as zip_ref:\\n    zip_ref.extractall(\\'extracted_images\\')\\n    print(\"Extracted images to \\'extracted_images\\' directory\")\\n\\n# Get a list of extracted images\\nimage_files = [os.path.join(\\'extracted_images\\', \\'images\\', f) for f in os.listdir(\\'extracted_images/images\\') if f.endswith((\\'.jpg\\', \\'.jpeg\\'))]\\nprint(\"Extracted image files:\", image_files)\\n\\n# Step III: Convert images to PDF\\npdf_bytes = b\\'\\'\\nfor image_file in image_files:\\n    with open(image_file, \\'rb\\') as f:\\n        image_data = f.read()\\n        pdf = img2pdf.convert(image_data)\\n        pdf_bytes += pdf\\n        print(f\"Converted {image_file} to PDF\")\\n\\n# Combine PDFs into a single PDF\\nwith open(\\'output.pdf\\', \\'wb\\') as f:\\n    f.write(pdf_bytes)\\n    print(\"Saved resulting PDF to \\'output.pdf\\'\")\\n\\nprint(\"Done!\")\\n```\\nNote: This code assumes that the `img2pdf` library is installed and available. If not, you can install it using `pip install img2pdf`. Also, this code extracts the images to a directory called `extracted_images` and saves the resulting PDF to a file called `output.pdf`. You can modify these paths as needed.'"
      ]
     },
     "execution_count": 59,
     "metadata": {},
     "output_type": "execute_result"
    }
   ],
   "source": [
    "o"
   ]
  },
  {
   "cell_type": "code",
   "execution_count": 27,
   "id": "53bf2e68-1462-4ac6-8c80-96040de3d7e5",
   "metadata": {
    "scrolled": true
   },
   "outputs": [
    {
     "name": "stdout",
     "output_type": "stream",
     "text": [
      "\u001b[33mWARNING: The directory '/Users/neil/Library/Caches/pip' or its parent directory is not owned or is not writable by the current user. The cache has been disabled. Check the permissions and owner of that directory. If executing pip with sudo, you should use sudo's -H flag.\u001b[0m\u001b[33m\n",
      "\u001b[0m\u001b[33mDEPRECATION: Loading egg at /Library/Frameworks/Python.framework/Versions/3.11/lib/python3.11/site-packages/tree_of_thoughts-0.1.8-py3.11.egg is deprecated. pip 24.3 will enforce this behaviour change. A possible replacement is to use pip for package installation.. Discussion can be found at https://github.com/pypa/pip/issues/12330\u001b[0m\u001b[33m\n",
      "\u001b[0mRequirement already satisfied: Pillow in /Library/Frameworks/Python.framework/Versions/3.11/lib/python3.11/site-packages (9.5.0)\n",
      "\u001b[33mWARNING: Running pip as the 'root' user can result in broken permissions and conflicting behaviour with the system package manager. It is recommended to use a virtual environment instead: https://pip.pypa.io/warnings/venv\u001b[0m\u001b[33m\n",
      "\u001b[0m\u001b[33mWARNING: The directory '/Users/neil/Library/Caches/pip' or its parent directory is not owned or is not writable by the current user. The cache has been disabled. Check the permissions and owner of that directory. If executing pip with sudo, you should use sudo's -H flag.\u001b[0m\u001b[33m\n",
      "\u001b[0m\u001b[33mDEPRECATION: Loading egg at /Library/Frameworks/Python.framework/Versions/3.11/lib/python3.11/site-packages/tree_of_thoughts-0.1.8-py3.11.egg is deprecated. pip 24.3 will enforce this behaviour change. A possible replacement is to use pip for package installation.. Discussion can be found at https://github.com/pypa/pip/issues/12330\u001b[0m\u001b[33m\n",
      "\u001b[0mRequirement already satisfied: reportlab in /Library/Frameworks/Python.framework/Versions/3.11/lib/python3.11/site-packages (4.2.0)\n",
      "Requirement already satisfied: pillow>=9.0.0 in /Library/Frameworks/Python.framework/Versions/3.11/lib/python3.11/site-packages (from reportlab) (9.5.0)\n",
      "Requirement already satisfied: chardet in /Library/Frameworks/Python.framework/Versions/3.11/lib/python3.11/site-packages (from reportlab) (5.1.0)\n",
      "\u001b[33mWARNING: Running pip as the 'root' user can result in broken permissions and conflicting behaviour with the system package manager. It is recommended to use a virtual environment instead: https://pip.pypa.io/warnings/venv\u001b[0m\u001b[33m\n",
      "\u001b[0m\u001b[33mWARNING: The directory '/Users/neil/Library/Caches/pip' or its parent directory is not owned or is not writable by the current user. The cache has been disabled. Check the permissions and owner of that directory. If executing pip with sudo, you should use sudo's -H flag.\u001b[0m\u001b[33m\n",
      "\u001b[0m\u001b[33mDEPRECATION: Loading egg at /Library/Frameworks/Python.framework/Versions/3.11/lib/python3.11/site-packages/tree_of_thoughts-0.1.8-py3.11.egg is deprecated. pip 24.3 will enforce this behaviour change. A possible replacement is to use pip for package installation.. Discussion can be found at https://github.com/pypa/pip/issues/12330\u001b[0m\u001b[33m\n",
      "\u001b[0mCollecting img2pdf\n",
      "  Downloading img2pdf-0.5.1.tar.gz (104 kB)\n",
      "\u001b[2K     \u001b[38;2;114;156;31m━━━━━━━━━━━━━━━━━━━━━━━━━━━━━━━━━━━━━\u001b[0m \u001b[32m104.2/104.2 kB\u001b[0m \u001b[31m811.5 kB/s\u001b[0m eta \u001b[36m0:00:00\u001b[0m kB/s\u001b[0m eta \u001b[36m0:00:01\u001b[0m:01\u001b[0m\n",
      "\u001b[?25h  Installing build dependencies ... \u001b[?25ldone\n",
      "\u001b[?25h  Getting requirements to build wheel ... \u001b[?25ldone\n",
      "\u001b[?25h  Installing backend dependencies ... \u001b[?25ldone\n",
      "\u001b[?25h  Preparing metadata (pyproject.toml) ... \u001b[?25ldone\n",
      "\u001b[?25hRequirement already satisfied: Pillow in /Library/Frameworks/Python.framework/Versions/3.11/lib/python3.11/site-packages (from img2pdf) (9.5.0)\n",
      "Collecting pikepdf (from img2pdf)\n",
      "  Downloading pikepdf-8.15.1-cp311-cp311-macosx_10_9_x86_64.whl.metadata (8.5 kB)\n",
      "Collecting Pillow (from img2pdf)\n",
      "  Downloading pillow-10.3.0-cp311-cp311-macosx_10_10_x86_64.whl.metadata (9.2 kB)\n",
      "Collecting Deprecated (from pikepdf->img2pdf)\n",
      "  Downloading Deprecated-1.2.14-py2.py3-none-any.whl.metadata (5.4 kB)\n",
      "Requirement already satisfied: lxml>=4.8 in /Library/Frameworks/Python.framework/Versions/3.11/lib/python3.11/site-packages (from pikepdf->img2pdf) (4.9.2)\n",
      "Requirement already satisfied: packaging in /Library/Frameworks/Python.framework/Versions/3.11/lib/python3.11/site-packages (from pikepdf->img2pdf) (23.2)\n",
      "Requirement already satisfied: wrapt<2,>=1.10 in /Library/Frameworks/Python.framework/Versions/3.11/lib/python3.11/site-packages (from Deprecated->pikepdf->img2pdf) (1.15.0)\n",
      "Downloading pikepdf-8.15.1-cp311-cp311-macosx_10_9_x86_64.whl (4.7 MB)\n",
      "\u001b[2K   \u001b[38;2;114;156;31m━━━━━━━━━━━━━━━━━━━━━━━━━━━━━━━━━━━━━━━━\u001b[0m \u001b[32m4.7/4.7 MB\u001b[0m \u001b[31m910.7 kB/s\u001b[0m eta \u001b[36m0:00:00\u001b[0mm eta \u001b[36m0:00:01\u001b[0m[36m0:00:01\u001b[0m\n",
      "\u001b[?25hDownloading pillow-10.3.0-cp311-cp311-macosx_10_10_x86_64.whl (3.5 MB)\n",
      "\u001b[2K   \u001b[38;2;114;156;31m━━━━━━━━━━━━━━━━━━━━━━━━━━━━━━━━━━━━━━━━\u001b[0m \u001b[32m3.5/3.5 MB\u001b[0m \u001b[31m938.7 kB/s\u001b[0m eta \u001b[36m0:00:00\u001b[0mm eta \u001b[36m0:00:01\u001b[0m[36m0:00:01\u001b[0m\n",
      "\u001b[?25hDownloading Deprecated-1.2.14-py2.py3-none-any.whl (9.6 kB)\n",
      "Building wheels for collected packages: img2pdf\n",
      "  Building wheel for img2pdf (pyproject.toml) ... \u001b[?25ldone\n",
      "\u001b[?25h  Created wheel for img2pdf: filename=img2pdf-0.5.1-py3-none-any.whl size=49277 sha256=1e7a19659efcb3b6f9d837b063b6d81944b023502c1461efb576080e88dffd4c\n",
      "  Stored in directory: /private/tmp/pip-ephem-wheel-cache-8dm32krw/wheels/6f/ec/69/9da613cf58f9d936c32eaee2a1f111ad79cfcc24197ad76a72\n",
      "Successfully built img2pdf\n",
      "Installing collected packages: Pillow, Deprecated, pikepdf, img2pdf\n",
      "  Attempting uninstall: Pillow\n",
      "    Found existing installation: Pillow 9.5.0\n",
      "    Uninstalling Pillow-9.5.0:\n",
      "      Successfully uninstalled Pillow-9.5.0\n",
      "Successfully installed Deprecated-1.2.14 Pillow-10.3.0 img2pdf-0.5.1 pikepdf-8.15.1\n",
      "\u001b[33mWARNING: Running pip as the 'root' user can result in broken permissions and conflicting behaviour with the system package manager. It is recommended to use a virtual environment instead: https://pip.pypa.io/warnings/venv\u001b[0m\u001b[33m\n",
      "\u001b[0m"
     ]
    }
   ],
   "source": [
    "!pip install Pillow\n",
    "!pip install reportlab\n",
    "!pip install img2pdf"
   ]
  },
  {
   "cell_type": "code",
   "execution_count": 35,
   "id": "043dbff5-efaf-40ba-a077-9b00c7b2d69a",
   "metadata": {},
   "outputs": [
    {
     "name": "stdout",
     "output_type": "stream",
     "text": [
      "An error occurred: list index out of range\n"
     ]
    },
    {
     "ename": "PermissionError",
     "evalue": "[Errno 1] Operation not permitted: 'temp_images/images'",
     "output_type": "error",
     "traceback": [
      "\u001b[0;31m---------------------------------------------------------------------------\u001b[0m",
      "\u001b[0;31mPermissionError\u001b[0m                           Traceback (most recent call last)",
      "Cell \u001b[0;32mIn[35], line 50\u001b[0m\n\u001b[1;32m     48\u001b[0m input_file \u001b[38;5;241m=\u001b[39m \u001b[38;5;124m\"\u001b[39m\u001b[38;5;124mimages.zip\u001b[39m\u001b[38;5;124m\"\u001b[39m\n\u001b[1;32m     49\u001b[0m output_file \u001b[38;5;241m=\u001b[39m \u001b[38;5;124m\"\u001b[39m\u001b[38;5;124mimages.pdf\u001b[39m\u001b[38;5;124m\"\u001b[39m\n\u001b[0;32m---> 50\u001b[0m \u001b[43mconvert_zip_to_pdf\u001b[49m\u001b[43m(\u001b[49m\u001b[43minput_file\u001b[49m\u001b[43m,\u001b[49m\u001b[43m \u001b[49m\u001b[43moutput_file\u001b[49m\u001b[43m)\u001b[49m\n",
      "Cell \u001b[0;32mIn[35], line 44\u001b[0m, in \u001b[0;36mconvert_zip_to_pdf\u001b[0;34m(input_file, output_file)\u001b[0m\n\u001b[1;32m     41\u001b[0m \u001b[38;5;28;01mfinally\u001b[39;00m:\n\u001b[1;32m     42\u001b[0m     \u001b[38;5;66;03m# Clean up the temporary directory\u001b[39;00m\n\u001b[1;32m     43\u001b[0m     \u001b[38;5;28;01mfor\u001b[39;00m file \u001b[38;5;129;01min\u001b[39;00m os\u001b[38;5;241m.\u001b[39mlistdir(temp_dir):\n\u001b[0;32m---> 44\u001b[0m         \u001b[43mos\u001b[49m\u001b[38;5;241;43m.\u001b[39;49m\u001b[43mremove\u001b[49m\u001b[43m(\u001b[49m\u001b[43mos\u001b[49m\u001b[38;5;241;43m.\u001b[39;49m\u001b[43mpath\u001b[49m\u001b[38;5;241;43m.\u001b[39;49m\u001b[43mjoin\u001b[49m\u001b[43m(\u001b[49m\u001b[43mtemp_dir\u001b[49m\u001b[43m,\u001b[49m\u001b[43m \u001b[49m\u001b[43mfile\u001b[49m\u001b[43m)\u001b[49m\u001b[43m)\u001b[49m\n\u001b[1;32m     45\u001b[0m     os\u001b[38;5;241m.\u001b[39mrmdir(temp_dir)\n",
      "\u001b[0;31mPermissionError\u001b[0m: [Errno 1] Operation not permitted: 'temp_images/images'"
     ]
    }
   ],
   "source": [
    "import os\n",
    "import zipfile\n",
    "from PIL import Image\n",
    "\n",
    "def convert_zip_to_pdf(input_file, output_file):\n",
    "    # Create a temporary directory to extract the images\n",
    "    temp_dir = \"temp_images\"\n",
    "    os.makedirs(temp_dir, exist_ok=True)\n",
    "\n",
    "    try:\n",
    "        # Extract the images from the zipped file\n",
    "        with zipfile.ZipFile(input_file, 'r') as zip_ref:\n",
    "            zip_ref.extractall(temp_dir)\n",
    "\n",
    "        # Get the list of image files in the temporary directory\n",
    "        image_files = [f for f in os.listdir(temp_dir) if f.lower().endswith(('.png', '.jpg', '.jpeg'))]\n",
    "\n",
    "        # Sort the image files alphabetically to maintain the order\n",
    "        image_files.sort()\n",
    "\n",
    "        # Open the first image to get the dimensions\n",
    "        with Image.open(os.path.join(temp_dir, image_files[0])) as img:\n",
    "            width, height = img.size\n",
    "\n",
    "        # Create a new PDF with the same dimensions as the images\n",
    "        pdf = Image.new('RGB', (width, height))\n",
    "\n",
    "        # Iterate over the image files and append them to the PDF\n",
    "        for image_file in image_files:\n",
    "            with Image.open(os.path.join(temp_dir, image_file)) as img:\n",
    "                pdf.paste(img)\n",
    "\n",
    "        # Save the PDF\n",
    "        pdf.save(output_file, \"PDF\", resolution=100.0)\n",
    "\n",
    "        print(f\"Successfully converted {input_file} to {output_file}\")\n",
    "\n",
    "    except Exception as e:\n",
    "        print(f\"An error occurred: {str(e)}\")\n",
    "\n",
    "    finally:\n",
    "        # Clean up the temporary directory\n",
    "        for file in os.listdir(temp_dir):\n",
    "            os.remove(os.path.join(temp_dir, file))\n",
    "        os.rmdir(temp_dir)\n",
    "\n",
    "# Example usage\n",
    "input_file = \"images.zip\"\n",
    "output_file = \"images.pdf\"\n",
    "convert_zip_to_pdf(input_file, output_file)\n"
   ]
  },
  {
   "cell_type": "code",
   "execution_count": null,
   "id": "346c8caf-bbe9-4065-b5ae-82e20331c5a0",
   "metadata": {},
   "outputs": [],
   "source": []
  }
 ],
 "metadata": {
  "kernelspec": {
   "display_name": "Python 3 (ipykernel)",
   "language": "python",
   "name": "python3"
  },
  "language_info": {
   "codemirror_mode": {
    "name": "ipython",
    "version": 3
   },
   "file_extension": ".py",
   "mimetype": "text/x-python",
   "name": "python",
   "nbconvert_exporter": "python",
   "pygments_lexer": "ipython3",
   "version": "3.11.3"
  }
 },
 "nbformat": 4,
 "nbformat_minor": 5
}
