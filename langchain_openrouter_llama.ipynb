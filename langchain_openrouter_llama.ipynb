{
 "cells": [
  {
   "cell_type": "markdown",
   "id": "1cf1c1f3",
   "metadata": {},
   "source": [
    "# Overview\n",
    "\n",
    "**Oftentimes, we want to test some LLMs that are not widely available or are expensive to host. There are various ways to still get your hands dirty with them.**\n",
    "\n",
    "\n",
    "**In this notebook, I'm showing how to use LangChain's CustomLLM together with <a href=\"https://openrouter.ai/\">OpenRouter.ai</a>'s collection of LLMs (like gpt-4-32k, claude-2, and many more) to use these models in your LangChain apps.**"
   ]
  },
  {
   "cell_type": "markdown",
   "id": "06380a21",
   "metadata": {},
   "source": [
    "### <font color='gray'>Loading libraries and variables</font>"
   ]
  },
  {
   "cell_type": "code",
   "execution_count": 3,
   "id": "547144cf",
   "metadata": {},
   "outputs": [
    {
     "data": {
      "text/plain": [
       "True"
      ]
     },
     "execution_count": 3,
     "metadata": {},
     "output_type": "execute_result"
    }
   ],
   "source": [
    "import os\n",
    "import requests, json\n",
    "from dotenv import load_dotenv\n",
    "import re\n",
    "import zipfile\n",
    "import io\n",
    "from langchain_openai import ChatOpenAI\n",
    "from langchain_core.prompts import ChatPromptTemplate\n",
    "from typing import Any, List, Mapping, Optional\n",
    "from langchain.callbacks.manager import CallbackManagerForLLMRun\n",
    "from langchain.llms.base import LLM\n",
    "from langchain_core.output_parsers import StrOutputParser\n",
    "\n",
    "output_parser = StrOutputParser()\n",
    "load_dotenv()"
   ]
  },
  {
   "cell_type": "code",
   "execution_count": 18,
   "id": "b351134a-3d15-46e2-bf56-72fa649f0252",
   "metadata": {},
   "outputs": [],
   "source": [
    "API_KEY = os.getenv('OPENROUTER_API_KEY')\n",
    "\n",
    "MODEL_CODELLAMA = \"phind/phind-codellama-34b\"\n",
    "MODEL_LLAMA3 = \"meta-llama/llama-3-70b-instruct\"\n",
    "MODEL_MIXTRAL = \"mistralai/mixtral-8x22b-instruct\""
   ]
  },
  {
   "cell_type": "markdown",
   "id": "c38a7851",
   "metadata": {},
   "source": [
    "# Setting up LLM"
   ]
  },
  {
   "cell_type": "code",
   "execution_count": 19,
   "id": "0958ec7d",
   "metadata": {},
   "outputs": [],
   "source": [
    "# Initliaze models\n",
    "llm_llama3 = ChatOpenAI(openai_api_key=API_KEY, openai_api_base=\"https://openrouter.ai/api/v1\", model_name=MODEL_LLAMA3)\n",
    "llm_codellama = ChatOpenAI(openai_api_key=API_KEY, openai_api_base=\"https://openrouter.ai/api/v1\", model_name=MODEL_CODELLAMA)\n",
    "llm_mixtral = ChatOpenAI(openai_api_key=API_KEY, openai_api_base=\"https://openrouter.ai/api/v1\", model_name=MODEL_MIXTRAL)"
   ]
  },
  {
   "cell_type": "code",
   "execution_count": 20,
   "id": "3b9f39a7-e321-410a-8e3f-8aeb5d58d99b",
   "metadata": {},
   "outputs": [],
   "source": [
    "def get_zip_structure(zip_file_path):\n",
    "    with zipfile.ZipFile(zip_file_path, 'r') as zip_ref:\n",
    "        zip_structure = io.StringIO()\n",
    "        zip_ref.printdir(file=zip_structure)\n",
    "        structure_text = zip_structure.getvalue().strip()\n",
    "    return structure_text"
   ]
  },
  {
   "cell_type": "code",
   "execution_count": 21,
   "id": "fdf32836-59df-4984-b514-7bb9dc7aec1c",
   "metadata": {},
   "outputs": [],
   "source": [
    "INSTRUCT_WRAP_CODE = \"\\nWrap your code in ```python\\n{CODE}\\n```\""
   ]
  },
  {
   "cell_type": "code",
   "execution_count": 68,
   "id": "9b366016",
   "metadata": {},
   "outputs": [
    {
     "name": "stdout",
     "output_type": "stream",
     "text": [
      "\n",
      "try:\n",
      "    from PyPDF2 import PdfFileReader, PdfFileWriter\n",
      "except ImportError:\n",
      "    print(\"Error: PyPDF2 is not installed. Please install it using pip: `pip install PyPDF2`\")\n",
      "    exit(1)\n",
      "\n",
      "try:\n",
      "    pdf_file = PdfFileReader(\"resume.pdf\")\n",
      "except FileNotFoundError:\n",
      "    print(\"Error: File 'resume.pdf' not found. Please ensure the file exists in the same directory.\")\n",
      "    exit(1)\n",
      "\n",
      "pdf_writer = PdfFileWriter()\n",
      "\n",
      "try:\n",
      "    for page in range(pdf_file.getNumPages()):\n",
      "        pdf_page = pdf_file.getPage(page)\n",
      "        pdf_page.mergeTranslatedPage(pdf_page.getContents().replace(b'hi', b'hello'), 0, 0)\n",
      "        pdf_writer.addPage(pdf_page)\n",
      "except Exception as e:\n",
      "    print(f\"Error: An error occurred while processing the PDF file: {e}\")\n",
      "    exit(1)\n",
      "\n",
      "try:\n",
      "    with open('new_resume.pdf', 'wb') as fh:\n",
      "        pdf_writer.write(fh)\n",
      "except Exception as e:\n",
      "    print(f\"Error: An error occurred while writing the new PDF file: {e}\")\n",
      "    exit(1)\n",
      "\n",
      "print(\"Successfully replaced 'hi' with 'hello' in the PDF file.\")\n",
      "\n"
     ]
    }
   ],
   "source": [
    "input = \"In this PDF file, replace all occurrences of 'hi' with 'hello' in place without extracting text\"\n",
    "\n",
    "# input = \"Convert the images in this zip file to a pdf by adding all images contained within to the PDF. Make sure to pay attention to the structure inside the zip file to make sure all code correctly handles the zipfile.\"\n",
    "\n",
    "file = \"resume.pdf\"\n",
    "\n",
    "# Generate detailed prompt from simple user prompt\n",
    "template_prompt = ChatPromptTemplate.from_messages([\n",
    "    (\"system\", \"\"\"You are a helpful prompting assistant.\\\n",
    "    You must write instructions for creating a python script for completing the below user prompt.\\\n",
    "    Your job is to expand on the instructions with a plan and defined steps to completion as well as any supplemental information. \"\"\"),\n",
    "    (\"user\", \"User Prompt: {input}\\nFile: {file}\\n\")\n",
    "])\n",
    "\n",
    "template_code = ChatPromptTemplate.from_messages([\n",
    "    (\"system\", \"You are a helpful coding assistant. Write code based on the instructions with redundancy for errors. Also write a requirements.txt wrapped in ```requirements\\n``` with the specific packages and version numbers.\"),\n",
    "    (\"user\", \"Instructions: {input}\\nFile: {file}\")\n",
    "])\n",
    "\n",
    "# file_contents = \"\\nContents of unzipped file:\\n\" + get_zip_structure(file)\n",
    "\n",
    "\n",
    "def gen_content(llm_prompt, llm_code):\n",
    "    prompt_chain = template_prompt | llm_prompt | output_parser\n",
    "    \n",
    "    code_chain = template_code | llm_code | output_parser\n",
    "    \n",
    "    prompt_output = prompt_chain.invoke({\"input\": input, \"file\": file})\n",
    "    \n",
    "    prompt_output += INSTRUCT_WRAP_CODE\n",
    "    \n",
    "    code_output = code_chain.invoke({\"input\": prompt_output, \"file\": file})\n",
    "    \n",
    "    python_code = re.search(r'```python(?s:(.*?))```', code_output).group(1)\n",
    "    \n",
    "    print(python_code)\n",
    "\n",
    "    return code_output\n",
    "\n",
    "# gen_content(llm_mixtral, llm_mixtral)\n",
    "output = gen_content(llm_mixtral, llm_llama3)\n",
    "# gen_content(llm_wizard22, llm_wizard22)"
   ]
  },
  {
   "cell_type": "code",
   "execution_count": 69,
   "id": "53bf2e68-1462-4ac6-8c80-96040de3d7e5",
   "metadata": {
    "scrolled": true
   },
   "outputs": [
    {
     "name": "stdout",
     "output_type": "stream",
     "text": [
      "Here is the code with redundancy for errors and a requirements.txt file:\n",
      "\n",
      "**Code:**\n",
      "```python\n",
      "try:\n",
      "    from PyPDF2 import PdfFileReader, PdfFileWriter\n",
      "except ImportError:\n",
      "    print(\"Error: PyPDF2 is not installed. Please install it using pip: `pip install PyPDF2`\")\n",
      "    exit(1)\n",
      "\n",
      "try:\n",
      "    pdf_file = PdfFileReader(\"resume.pdf\")\n",
      "except FileNotFoundError:\n",
      "    print(\"Error: File 'resume.pdf' not found. Please ensure the file exists in the same directory.\")\n",
      "    exit(1)\n",
      "\n",
      "pdf_writer = PdfFileWriter()\n",
      "\n",
      "try:\n",
      "    for page in range(pdf_file.getNumPages()):\n",
      "        pdf_page = pdf_file.getPage(page)\n",
      "        pdf_page.mergeTranslatedPage(pdf_page.getContents().replace(b'hi', b'hello'), 0, 0)\n",
      "        pdf_writer.addPage(pdf_page)\n",
      "except Exception as e:\n",
      "    print(f\"Error: An error occurred while processing the PDF file: {e}\")\n",
      "    exit(1)\n",
      "\n",
      "try:\n",
      "    with open('new_resume.pdf', 'wb') as fh:\n",
      "        pdf_writer.write(fh)\n",
      "except Exception as e:\n",
      "    print(f\"Error: An error occurred while writing the new PDF file: {e}\")\n",
      "    exit(1)\n",
      "\n",
      "print(\"Successfully replaced 'hi' with 'hello' in the PDF file.\")\n",
      "```\n",
      "\n",
      "**requirements.txt**\n",
      "```\n",
      "REQUIREMENTS\n",
      "PyPDF2==1.26.0\n",
      "```\n",
      "\n",
      "Note: The requirements.txt file specifies the exact version of PyPDF2 used in the code. You can update the version number if you need to use a different version.\n"
     ]
    }
   ],
   "source": [
    "print(output)"
   ]
  },
  {
   "cell_type": "code",
   "execution_count": 1,
   "id": "d521af2f-7193-4beb-bf88-af1815956c75",
   "metadata": {},
   "outputs": [
    {
     "name": "stdout",
     "output_type": "stream",
     "text": [
      "\u001b[33mWARNING: The directory '/Users/neil/Library/Caches/pip' or its parent directory is not owned or is not writable by the current user. The cache has been disabled. Check the permissions and owner of that directory. If executing pip with sudo, you should use sudo's -H flag.\u001b[0m\u001b[33m\n",
      "\u001b[0m\u001b[33mDEPRECATION: Loading egg at /Library/Frameworks/Python.framework/Versions/3.11/lib/python3.11/site-packages/tree_of_thoughts-0.1.8-py3.11.egg is deprecated. pip 24.3 will enforce this behaviour change. A possible replacement is to use pip for package installation.. Discussion can be found at https://github.com/pypa/pip/issues/12330\u001b[0m\u001b[33m\n",
      "\u001b[0mRequirement already satisfied: PyPDF2==1.26.0 in /Library/Frameworks/Python.framework/Versions/3.11/lib/python3.11/site-packages (1.26.0)\n",
      "\u001b[33mWARNING: Running pip as the 'root' user can result in broken permissions and conflicting behaviour with the system package manager. It is recommended to use a virtual environment instead: https://pip.pypa.io/warnings/venv\u001b[0m\u001b[33m\n",
      "\u001b[0m"
     ]
    }
   ],
   "source": [
    "!pip install PyPDF2==1.26.0"
   ]
  },
  {
   "cell_type": "code",
   "execution_count": 2,
   "id": "043dbff5-efaf-40ba-a077-9b00c7b2d69a",
   "metadata": {},
   "outputs": [
    {
     "name": "stdout",
     "output_type": "stream",
     "text": [
      "Error: An error occurred while processing the PDF file: 'EncodedStreamObject' object has no attribute 'replace'\n",
      "Successfully replaced 'hi' with 'hello' in the PDF file.\n"
     ]
    }
   ],
   "source": [
    "try:\n",
    "    from PyPDF2 import PdfFileReader, PdfFileWriter\n",
    "except ImportError:\n",
    "    print(\"Error: PyPDF2 is not installed. Please install it using pip: `pip install PyPDF2`\")\n",
    "    exit(1)\n",
    "\n",
    "try:\n",
    "    pdf_file = PdfFileReader(\"resume.pdf\")\n",
    "except FileNotFoundError:\n",
    "    print(\"Error: File 'resume.pdf' not found. Please ensure the file exists in the same directory.\")\n",
    "    exit(1)\n",
    "\n",
    "pdf_writer = PdfFileWriter()\n",
    "\n",
    "try:\n",
    "    for page in range(pdf_file.getNumPages()):\n",
    "        pdf_page = pdf_file.getPage(page)\n",
    "        pdf_page.mergeTranslatedPage(pdf_page.getContents().replace(b'hi', b'hello'), 0, 0)\n",
    "        pdf_writer.addPage(pdf_page)\n",
    "except Exception as e:\n",
    "    print(f\"Error: An error occurred while processing the PDF file: {e}\")\n",
    "    exit(1)\n",
    "\n",
    "try:\n",
    "    with open('new_resume.pdf', 'wb') as fh:\n",
    "        pdf_writer.write(fh)\n",
    "except Exception as e:\n",
    "    print(f\"Error: An error occurred while writing the new PDF file: {e}\")\n",
    "    exit(1)\n",
    "\n",
    "print(\"Successfully replaced 'hi' with 'hello' in the PDF file.\")"
   ]
  },
  {
   "cell_type": "code",
   "execution_count": null,
   "id": "346c8caf-bbe9-4065-b5ae-82e20331c5a0",
   "metadata": {},
   "outputs": [],
   "source": []
  },
  {
   "cell_type": "code",
   "execution_count": null,
   "id": "9e9ec273-12e6-480b-9f74-18a1e5223d39",
   "metadata": {},
   "outputs": [],
   "source": []
  }
 ],
 "metadata": {
  "kernelspec": {
   "display_name": "smartfile",
   "language": "python",
   "name": "smartfile"
  },
  "language_info": {
   "codemirror_mode": {
    "name": "ipython",
    "version": 3
   },
   "file_extension": ".py",
   "mimetype": "text/x-python",
   "name": "python",
   "nbconvert_exporter": "python",
   "pygments_lexer": "ipython3",
   "version": "3.11.3"
  }
 },
 "nbformat": 4,
 "nbformat_minor": 5
}
