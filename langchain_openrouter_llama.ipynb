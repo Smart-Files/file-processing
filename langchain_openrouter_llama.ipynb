{
 "cells": [
  {
   "cell_type": "markdown",
   "id": "1cf1c1f3",
   "metadata": {},
   "source": [
    "# Overview\n",
    "\n",
    "**Oftentimes, we want to test some LLMs that are not widely available or are expensive to host. There are various ways to still get your hands dirty with them.**\n",
    "\n",
    "\n",
    "**In this notebook, I'm showing how to use LangChain's CustomLLM together with <a href=\"https://openrouter.ai/\">OpenRouter.ai</a>'s collection of LLMs (like gpt-4-32k, claude-2, and many more) to use these models in your LangChain apps.**"
   ]
  },
  {
   "cell_type": "markdown",
   "id": "06380a21",
   "metadata": {},
   "source": [
    "### <font color='gray'>Loading libraries and variables</font>"
   ]
  },
  {
   "cell_type": "code",
   "execution_count": 3,
   "id": "547144cf",
   "metadata": {},
   "outputs": [
    {
     "data": {
      "text/plain": [
       "True"
      ]
     },
     "execution_count": 3,
     "metadata": {},
     "output_type": "execute_result"
    }
   ],
   "source": [
    "import os\n",
    "import requests, json\n",
    "from dotenv import load_dotenv\n",
    "import re\n",
    "import zipfile\n",
    "import io\n",
    "from langchain_openai import ChatOpenAI\n",
    "from langchain_core.prompts import ChatPromptTemplate\n",
    "from typing import Any, List, Mapping, Optional\n",
    "from langchain.callbacks.manager import CallbackManagerForLLMRun\n",
    "from langchain.llms.base import LLM\n",
    "from langchain_core.output_parsers import StrOutputParser\n",
    "\n",
    "output_parser = StrOutputParser()\n",
    "load_dotenv()"
   ]
  },
  {
   "cell_type": "code",
   "execution_count": 4,
   "id": "b351134a-3d15-46e2-bf56-72fa649f0252",
   "metadata": {},
   "outputs": [],
   "source": [
    "API_KEY = os.getenv('OPENROUTER_API_KEY')\n",
    "\n",
    "MODEL_CODELLAMA = \"phind/phind-codellama-34b\"\n",
    "MODEL_LLAMA3 = \"meta-llama/llama-3-70b-instruct\"\n",
    "MODEL_WIZARD8x22b = \"microsoft/wizardlm-2-8x22b\""
   ]
  },
  {
   "cell_type": "markdown",
   "id": "c38a7851",
   "metadata": {},
   "source": [
    "# Setting up LLM"
   ]
  },
  {
   "cell_type": "code",
   "execution_count": 5,
   "id": "0958ec7d",
   "metadata": {},
   "outputs": [],
   "source": [
    "# Initliaze models\n",
    "llm_llama3 = ChatOpenAI(openai_api_key=API_KEY, openai_api_base=\"https://openrouter.ai/api/v1\", model_name=MODEL_LLAMA3)\n",
    "llm_codellama = ChatOpenAI(openai_api_key=API_KEY, openai_api_base=\"https://openrouter.ai/api/v1\", model_name=MODEL_CODELLAMA)\n",
    "llm_wizard22 = ChatOpenAI(openai_api_key=API_KEY, openai_api_base=\"https://openrouter.ai/api/v1\", model_name=MODEL_WIZARD8x22b)"
   ]
  },
  {
   "cell_type": "code",
   "execution_count": 6,
   "id": "3b9f39a7-e321-410a-8e3f-8aeb5d58d99b",
   "metadata": {},
   "outputs": [],
   "source": [
    "def get_zip_structure(zip_file_path):\n",
    "    with zipfile.ZipFile(zip_file_path, 'r') as zip_ref:\n",
    "        zip_structure = io.StringIO()\n",
    "        zip_ref.printdir(file=zip_structure)\n",
    "        structure_text = zip_structure.getvalue().strip()\n",
    "    return structure_text"
   ]
  },
  {
   "cell_type": "code",
   "execution_count": 7,
   "id": "fdf32836-59df-4984-b514-7bb9dc7aec1c",
   "metadata": {},
   "outputs": [],
   "source": [
    "INSTRUCT_WRAP_CODE = \"\\nWrap your code in ```python\\n{CODE}\\n```\""
   ]
  },
  {
   "cell_type": "code",
   "execution_count": null,
   "id": "9b366016",
   "metadata": {},
   "outputs": [
    {
     "name": "stdout",
     "output_type": "stream",
     "text": [
      "\n",
      "import zipfile\n",
      "from PIL import Image\n",
      "from PyPDF2 import PdfFileWriter\n",
      "\n",
      "try:\n",
      "    with zipfile.ZipFile('images.zip') as zip_file:\n",
      "        image_files = [f for f in zip_file.namelist() if f.endswith(('.jpg', '.jpeg'))]\n",
      "        images = []\n",
      "        for image_file in image_files:\n",
      "            with zip_file.open(image_file) as img:\n",
      "                image = Image.open(img)\n",
      "                images.append(image)\n",
      "except FileNotFoundError:\n",
      "    print(\"Error: 'images.zip' file not found.\")\n",
      "    exit()\n",
      "except zipfile.BadZipFile:\n",
      "    print(\"Error: 'images.zip' is not a valid zip file.\")\n",
      "    exit()\n",
      "\n",
      "try:\n",
      "    pdf_file = PdfFileWriter()\n",
      "    for image in images:\n",
      "        image_page = pdf_file.addBlankPage(image.width, image.height)\n",
      "        image_page.mergePage(image)\n",
      "        pdf_file.addPage(image_page)\n",
      "except Exception as e:\n",
      "    print(\"Error occurred while creating PDF file:\", str(e))\n",
      "    exit()\n",
      "\n",
      "try:\n",
      "    with open('output.pdf', 'wb') as f:\n",
      "        pdf_file.write(f)\n",
      "    print(\"PDF file created successfully.\")\n",
      "except Exception as e:\n",
      "    print(\"Error occurred while saving PDF file:\", str(e))\n",
      "    exit()\n",
      "\n",
      "\n",
      "import os\n",
      "import zipfile\n",
      "from PIL import Image\n",
      "from fpdf import FPDF\n",
      "\n",
      "# Define the path to the zip file\n",
      "zip_file_path = 'images.zip'\n",
      "\n",
      "# Create a temporary directory to store the extracted images\n",
      "temp_dir = 'temp_images'\n",
      "os.makedirs(temp_dir, exist_ok=True)\n",
      "\n",
      "# Extract the images from the zip file to the temporary directory\n",
      "with zipfile.ZipFile(zip_file_path, 'r') as zip_ref:\n",
      "    zip_ref.extractall(temp_dir)\n",
      "\n",
      "# Create a PDF file\n",
      "pdf = FPDF()\n",
      "\n",
      "# Iterate through the images in the temporary directory\n",
      "for filename in os.listdir(temp_dir):\n",
      "    if filename.lower().endswith(('.jpg', '.jpeg', '.png')):\n",
      "        # Open the image using PIL\n",
      "        img = Image.open(os.path.join(temp_dir, filename))\n",
      "\n",
      "        # Get the image width and height\n",
      "        width, height = img.size\n",
      "\n",
      "        # Set the PDF page size to match the image size\n",
      "        pdf.add_page(orientation='P' if width < height else 'L', format=(width, height))\n",
      "\n",
      "        # Convert the image to a PDF and add it to the PDF\n",
      "        pdf.image(os.path.join(temp_dir, filename), x=0, y=0, w=width, h=height)\n",
      "\n",
      "# Save the PDF file\n",
      "pdf.output('images.pdf')\n",
      "\n",
      "# Remove the temporary directory\n",
      "shutil.rmtree(temp_dir)\n",
      "\n"
     ]
    }
   ],
   "source": [
    "input = \"combine the images in this zip into a pdf file with one image as each page.\"\n",
    "\n",
    "# input = \"Convert the images in this zip file to a pdf by adding all images contained within to the PDF. Make sure to pay attention to the structure inside the zip file to make sure all code correctly handles the zipfile.\"\n",
    "\n",
    "file = \"images.zip\"\n",
    "\n",
    "# Generate detailed prompt from simple user prompt\n",
    "template_prompt = ChatPromptTemplate.from_messages([\n",
    "    (\"system\", \"\"\"You are a helpful prompting assistant.\\\n",
    "    You must write instructions for creating a python script for completing the below user prompt.\\\n",
    "    Your job is to expand on the instructions below to make sure there is a defined plan of execution.\"\"\"),\n",
    "    (\"user\", \"User Prompt: {input}\\nFile: {file}\\nFile Contents: {contents}\")\n",
    "])\n",
    "\n",
    "template_code = ChatPromptTemplate.from_messages([\n",
    "    (\"system\", \"You are a helpful coding assistant. Write code based on the instructions with redundancy for errors.\"),\n",
    "    (\"user\", \"Instructions: {input}\\nFile: {file}\\nFile Contents: {contents}\")\n",
    "])\n",
    "\n",
    "file_contents = \"\\nContents of unzipped file:\\n\" + get_zip_structure(file)\n",
    "\n",
    "\n",
    "def gen_content(llm_prompt, llm_code):\n",
    "    prompt_chain = template_prompt | llm_prompt | output_parser\n",
    "    \n",
    "    code_chain = template_code | llm_code | output_parser\n",
    "    \n",
    "    prompt_output = prompt_chain.invoke({\"input\": input, \"file\": file, \"contents\": file_contents})\n",
    "    \n",
    "    prompt_output += INSTRUCT_WRAP_CODE\n",
    "    \n",
    "    code_output = code_chain.invoke({\"input\": prompt_output, \"file\": file, \"contents\": file_contents})\n",
    "    \n",
    "    python_code = re.search(r'```python(?s:(.*?))```', code_output).group(1)\n",
    "    \n",
    "    print(python_code)\n",
    "\n",
    "gen_content(llm_llama3, llm_llama3)\n",
    "gen_content(llm_codellama, llm_codellama)\n",
    "gen_content(llm_wizard22, llm_wizard22)"
   ]
  },
  {
   "cell_type": "code",
   "execution_count": null,
   "id": "53bf2e68-1462-4ac6-8c80-96040de3d7e5",
   "metadata": {
    "scrolled": true
   },
   "outputs": [],
   "source": [
    "print(prompt_output)\n",
    "print(code_output)"
   ]
  },
  {
   "cell_type": "code",
   "execution_count": 14,
   "id": "043dbff5-efaf-40ba-a077-9b00c7b2d69a",
   "metadata": {},
   "outputs": [
    {
     "ename": "TypeError",
     "evalue": "FPDF.add_page() got an unexpected keyword argument 'format'",
     "output_type": "error",
     "traceback": [
      "\u001b[0;31m---------------------------------------------------------------------------\u001b[0m",
      "\u001b[0;31mTypeError\u001b[0m                                 Traceback (most recent call last)",
      "Cell \u001b[0;32mIn[14], line 37\u001b[0m\n\u001b[1;32m     35\u001b[0m     image \u001b[38;5;241m=\u001b[39m Image\u001b[38;5;241m.\u001b[39mopen(image_file)\n\u001b[1;32m     36\u001b[0m     width, height \u001b[38;5;241m=\u001b[39m image\u001b[38;5;241m.\u001b[39msize\n\u001b[0;32m---> 37\u001b[0m     \u001b[43mpdf\u001b[49m\u001b[38;5;241;43m.\u001b[39;49m\u001b[43madd_page\u001b[49m\u001b[43m(\u001b[49m\u001b[38;5;28;43mformat\u001b[39;49m\u001b[38;5;241;43m=\u001b[39;49m\u001b[43m(\u001b[49m\u001b[43mwidth\u001b[49m\u001b[43m,\u001b[49m\u001b[43m \u001b[49m\u001b[43mheight\u001b[49m\u001b[43m)\u001b[49m\u001b[43m)\u001b[49m\n\u001b[1;32m     38\u001b[0m     pdf\u001b[38;5;241m.\u001b[39mimage(image_file, \u001b[38;5;241m0\u001b[39m, \u001b[38;5;241m0\u001b[39m, width, height)\n\u001b[1;32m     39\u001b[0m \u001b[38;5;28;01mexcept\u001b[39;00m \u001b[38;5;167;01mIOError\u001b[39;00m:\n",
      "\u001b[0;31mTypeError\u001b[0m: FPDF.add_page() got an unexpected keyword argument 'format'"
     ]
    }
   ],
   "source": [
    "import zipfile\n",
    "from PIL import Image\n",
    "from fpdf import FPDF\n",
    "import os\n",
    "\n",
    "try:\n",
    "    # Extract the zip file\n",
    "    with zipfile.ZipFile('images.zip', 'r') as zip_ref:\n",
    "        zip_ref.extractall('images')\n",
    "except FileNotFoundError:\n",
    "    print(\"Error: The 'images.zip' file is not found.\")\n",
    "    exit()\n",
    "\n",
    "# Create a list of image files\n",
    "image_files = []\n",
    "try:\n",
    "    for root, dirs, files in os.walk('images'):\n",
    "        for file in files:\n",
    "            if file.endswith(('.jpg', '.jpeg')):\n",
    "                image_files.append(os.path.join(root, file))\n",
    "except FileNotFoundError:\n",
    "    print(\"Error: The 'images' directory is not found.\")\n",
    "    exit()\n",
    "\n",
    "if not image_files:\n",
    "    print(\"Error: No image files found in the 'images' directory.\")\n",
    "    exit()\n",
    "\n",
    "# Create a PDF file\n",
    "pdf = FPDF()\n",
    "\n",
    "# Add each image as a separate page\n",
    "for image_file in image_files:\n",
    "    try:\n",
    "        image = Image.open(image_file)\n",
    "        width, height = image.size\n",
    "        pdf.add_page(format=(width, height))\n",
    "        pdf.image(image_file, 0, 0, width, height)\n",
    "    except IOError:\n",
    "        print(f\"Error: Unable to open image file '{image_file}'.\")\n",
    "        continue\n",
    "\n",
    "# Save the PDF file\n",
    "try:\n",
    "    pdf.output('output.pdf', 'F')\n",
    "except IOError:\n",
    "    print(\"Error: Unable to save the PDF file.\")\n",
    "    exit()\n",
    "\n",
    "print(\"PDF file created successfully.\")"
   ]
  },
  {
   "cell_type": "code",
   "execution_count": null,
   "id": "346c8caf-bbe9-4065-b5ae-82e20331c5a0",
   "metadata": {},
   "outputs": [],
   "source": []
  }
 ],
 "metadata": {
  "kernelspec": {
   "display_name": "Python 3 (ipykernel)",
   "language": "python",
   "name": "python3"
  },
  "language_info": {
   "codemirror_mode": {
    "name": "ipython",
    "version": 3
   },
   "file_extension": ".py",
   "mimetype": "text/x-python",
   "name": "python",
   "nbconvert_exporter": "python",
   "pygments_lexer": "ipython3",
   "version": "3.11.3"
  }
 },
 "nbformat": 4,
 "nbformat_minor": 5
}
