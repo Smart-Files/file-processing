{
 "cells": [
  {
   "cell_type": "markdown",
   "id": "1cf1c1f3",
   "metadata": {},
   "source": [
    "# Overview\n",
    "\n",
    "**Oftentimes, we want to test some LLMs that are not widely available or are expensive to host. There are various ways to still get your hands dirty with them.**\n",
    "\n",
    "\n",
    "**In this notebook, I'm showing how to use LangChain's CustomLLM together with <a href=\"https://openrouter.ai/\">OpenRouter.ai</a>'s collection of LLMs (like gpt-4-32k, claude-2, and many more) to use these models in your LangChain apps.**"
   ]
  },
  {
   "cell_type": "markdown",
   "id": "06380a21",
   "metadata": {},
   "source": [
    "### <font color='gray'>Loading libraries and variables</font>"
   ]
  },
  {
   "cell_type": "code",
   "execution_count": 1,
   "id": "547144cf",
   "metadata": {},
   "outputs": [],
   "source": [
    "import os\n",
    "import requests, json"
   ]
  },
  {
   "cell_type": "code",
   "execution_count": 2,
   "id": "f1e8ef73",
   "metadata": {},
   "outputs": [],
   "source": [
    "from typing import Any, List, Mapping, Optional\n",
    "\n",
    "from langchain.callbacks.manager import CallbackManagerForLLMRun\n",
    "from langchain.llms.base import LLM"
   ]
  },
  {
   "cell_type": "code",
   "execution_count": 3,
   "id": "b351134a-3d15-46e2-bf56-72fa649f0252",
   "metadata": {},
   "outputs": [],
   "source": [
    "API_KEY = os.getenv('OPENROUTER_API_KEY')\n",
    "\n",
    "MODEL = \"phind/phind-codellama-34b\""
   ]
  },
  {
   "cell_type": "markdown",
   "id": "c38a7851",
   "metadata": {},
   "source": [
    "# Setting up LLM"
   ]
  },
  {
   "cell_type": "code",
   "execution_count": 4,
   "id": "0958ec7d",
   "metadata": {},
   "outputs": [],
   "source": [
    "from langchain_openai import ChatOpenAI\n",
    "\n",
    "llm = ChatOpenAI(openai_api_key=API_KEY, openai_api_base=\"https://openrouter.ai/api/v1\", model_name=MODEL)"
   ]
  },
  {
   "cell_type": "markdown",
   "id": "6c78ad91",
   "metadata": {},
   "source": [
    "# Let's test our brand new custom LLM"
   ]
  },
  {
   "cell_type": "code",
   "execution_count": 6,
   "id": "9b366016",
   "metadata": {},
   "outputs": [],
   "source": [
    "output = llm.invoke(\"Create a python script to calculate the first n (provided as command line argument) fibonacci numbers with dynamic programming caching\")"
   ]
  },
  {
   "cell_type": "code",
   "execution_count": 21,
   "id": "e4d6390d",
   "metadata": {},
   "outputs": [
    {
     "data": {
      "text/plain": [
       "\" Hello, I'm Claude, an AI assistant created by Anthropic to be helpful, harmless, and honest. I don't actually have personal traits, goals or an identity. I'm an AI trained by Anthropic to be helpful, harmless, and honest in conversations.\""
      ]
     },
     "execution_count": 21,
     "metadata": {},
     "output_type": "execute_result"
    }
   ],
   "source": [
    "print(output)"
   ]
  }
 ],
 "metadata": {
  "kernelspec": {
   "display_name": "Python 3 (ipykernel)",
   "language": "python",
   "name": "python3"
  },
  "language_info": {
   "codemirror_mode": {
    "name": "ipython",
    "version": 3
   },
   "file_extension": ".py",
   "mimetype": "text/x-python",
   "name": "python",
   "nbconvert_exporter": "python",
   "pygments_lexer": "ipython3",
   "version": "3.11.3"
  }
 },
 "nbformat": 4,
 "nbformat_minor": 5
}
