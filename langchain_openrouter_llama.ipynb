{
 "cells": [
  {
   "cell_type": "markdown",
   "id": "1cf1c1f3",
   "metadata": {},
   "source": [
    "# Overview\n",
    "\n",
    "**Oftentimes, we want to test some LLMs that are not widely available or are expensive to host. There are various ways to still get your hands dirty with them.**\n",
    "\n",
    "\n",
    "**In this notebook, I'm showing how to use LangChain's CustomLLM together with <a href=\"https://openrouter.ai/\">OpenRouter.ai</a>'s collection of LLMs (like gpt-4-32k, claude-2, and many more) to use these models in your LangChain apps.**"
   ]
  },
  {
   "cell_type": "markdown",
   "id": "06380a21",
   "metadata": {},
   "source": [
    "### <font color='gray'>Loading libraries and variables</font>"
   ]
  },
  {
   "cell_type": "code",
   "execution_count": 57,
   "id": "547144cf",
   "metadata": {},
   "outputs": [
    {
     "data": {
      "text/plain": [
       "True"
      ]
     },
     "execution_count": 57,
     "metadata": {},
     "output_type": "execute_result"
    }
   ],
   "source": [
    "import os\n",
    "import requests, json\n",
    "from dotenv import load_dotenv\n",
    "import re\n",
    "import zipfile\n",
    "import io\n",
    "from langchain_openai import ChatOpenAI\n",
    "from langchain_core.prompts import ChatPromptTemplate\n",
    "from typing import Any, List, Mapping, Optional\n",
    "from langchain.callbacks.manager import CallbackManagerForLLMRun\n",
    "from langchain.llms.base import LLM\n",
    "from langchain_core.output_parsers import StrOutputParser\n",
    "\n",
    "output_parser = StrOutputParser()\n",
    "load_dotenv()"
   ]
  },
  {
   "cell_type": "code",
   "execution_count": 64,
   "id": "b351134a-3d15-46e2-bf56-72fa649f0252",
   "metadata": {},
   "outputs": [],
   "source": [
    "API_KEY = os.getenv('OPENROUTER_API_KEY')\n",
    "\n",
    "MODEL = \"phind/phind-codellama-34b\"\n",
    "# MODEL = \"meta-llama/llama-3-70b-instruct\""
   ]
  },
  {
   "cell_type": "markdown",
   "id": "c38a7851",
   "metadata": {},
   "source": [
    "# Setting up LLM"
   ]
  },
  {
   "cell_type": "code",
   "execution_count": 51,
   "id": "0958ec7d",
   "metadata": {},
   "outputs": [],
   "source": [
    "llm = ChatOpenAI(openai_api_key=API_KEY, openai_api_base=\"https://openrouter.ai/api/v1\", model_name=MODEL)"
   ]
  },
  {
   "cell_type": "code",
   "execution_count": 52,
   "id": "3b9f39a7-e321-410a-8e3f-8aeb5d58d99b",
   "metadata": {},
   "outputs": [],
   "source": [
    "def get_zip_structure(zip_file_path):\n",
    "    with zipfile.ZipFile(zip_file_path, 'r') as zip_ref:\n",
    "        zip_structure = io.StringIO()\n",
    "        zip_ref.printdir(file=zip_structure)\n",
    "        structure_text = zip_structure.getvalue().strip()\n",
    "    return structure_text"
   ]
  },
  {
   "cell_type": "code",
   "execution_count": 67,
   "id": "fdf32836-59df-4984-b514-7bb9dc7aec1c",
   "metadata": {},
   "outputs": [],
   "source": [
    "INSTRUCT_WRAP_CODE = \"\\nWrap your code in ```python\\n{CODE}\\n```\""
   ]
  },
  {
   "cell_type": "code",
   "execution_count": null,
   "id": "9b366016",
   "metadata": {},
   "outputs": [],
   "source": [
    "input = \"combine the images in this zip into a pdf file with one image as each page.\"\n",
    "\n",
    "# input = \"Convert the images in this zip file to a pdf by adding all images contained within to the PDF. Make sure to pay attention to the structure inside the zip file to make sure all code correctly handles the zipfile.\"\n",
    "\n",
    "file = \"images.zip\"\n",
    "\n",
    "# Generate detailed prompt from simple user prompt\n",
    "gen_prompt = ChatPromptTemplate.from_messages([\n",
    "    (\"system\", \"\"\"You are a helpful prompting assistant.\\\n",
    "    You must write instructions for creating a python script for completing the below user prompt.\\\n",
    "    Your job is to expand on the instructions below to make sure there is a defined plan of execution.\"\"\"),\n",
    "    (\"user\", \"User Prompt: {input}\\nFile: {file}\\nFile Contents: {contents}\")\n",
    "])\n",
    "\n",
    "prompt_code = ChatPromptTemplate.from_messages([\n",
    "    (\"system\", \"You are a helpful coding assistant. Write code based on the instructions with redundancy for errors.\"),\n",
    "    (\"user\", \"Instructions: {input}\\nFile: {file}\\nFile Contents: {contents}\")\n",
    "])\n",
    "\n",
    "file_contents = \"\\nContents of unzipped file:\\n\" + get_zip_structure(file)\n",
    "\n",
    "prompt_chain = gen_prompt | llm | output_parser\n",
    "\n",
    "code_chain = prompt_code | llm | output_parser\n",
    "\n",
    "prompt_output = prompt_chain.invoke({\"input\": input, \"file\": file, \"contents\": file_contents})\n",
    "\n",
    "prompt_output += INSTRUCT_WRAP_CODE\n",
    "\n",
    "code_output = code_chain.invoke({\"input\": prompt_output, \"file\": file, \"contents\": file_contents})\n",
    "\n",
    "python_code = re.search(r'```python(?s:(.*?))```', code_output).group(1)\n",
    "\n",
    "print(python_code)"
   ]
  },
  {
   "cell_type": "code",
   "execution_count": 78,
   "id": "53bf2e68-1462-4ac6-8c80-96040de3d7e5",
   "metadata": {
    "scrolled": true
   },
   "outputs": [
    {
     "name": "stdout",
     "output_type": "stream",
     "text": [
      "Here is a plan of execution with an outline to combine the images in the zip file into a PDF file with one image per page:\n",
      "\n",
      "**Plan of Execution:**\n",
      "\n",
      "**Step 1: Unzip the File**\n",
      "\n",
      "* Unzip the provided `images.zip` file to a directory on your local machine.\n",
      "* This will extract the contents of the zip file, including the four image files: `seas.jpeg`, `platform.jpg`, `lulz.jpg`, and `picture.jpg`.\n",
      "\n",
      "**Step 2: Install Required Software (if necessary)**\n",
      "\n",
      "* If you don't already have a PDF creation tool installed, you may need to download and install one. Some popular options include:\n",
      "\t+ Adobe Acrobat (paid)\n",
      "\t+ PDFCreator (free)\n",
      "\t+ Img2PDF (free, online tool)\n",
      "\n",
      "**Step 3: Combine Images into a PDF**\n",
      "\n",
      "* Open your chosen PDF creation tool.\n",
      "* Select the option to create a new PDF from images.\n",
      "* Navigate to the unzipped image files and select all four images: `seas.jpeg`, `platform.jpg`, `lulz.jpg`, and `picture.jpg`.\n",
      "* Choose the option to add each image as a separate page in the PDF.\n",
      "* Set any desired PDF settings, such as page size, orientation, and compression.\n",
      "* Click \"Create\" or \"Convert\" to generate the PDF file.\n",
      "\n",
      "**Step 4: Verify the Output**\n",
      "\n",
      "* Open the generated PDF file to verify that it contains all four images, one per page.\n",
      "* Check that the images are displayed correctly, with no distortion or resizing.\n",
      "\n",
      "**Alternative Method using Command Line Tools (optional)**\n",
      "\n",
      "* If you prefer to use command-line tools, you can use ImageMagick to combine the images into a PDF.\n",
      "* Install ImageMagick if it's not already installed on your system.\n",
      "* Use the following command to combine the images into a PDF:\n",
      "```\n",
      "magick *.jpg *.jpeg output.pdf\n",
      "```\n",
      "This command will combine all JPEG and JPG files in the current directory into a single PDF file, with each image on a separate page.\n",
      "\n",
      "**Output**\n",
      "\n",
      "* The final output will be a single PDF file containing all four images, one per page.\n",
      "* The PDF file will be named according to your chosen filename, such as `images.pdf`.Wrap your code in ```python\n",
      "{CODE}\n",
      "```\n",
      "Here is the Python code to combine the images in the zip file into a PDF file with one image per page:\n",
      "```python\n",
      "import zipfile\n",
      "import os\n",
      "from fpdf import FPDF\n",
      "\n",
      "# Step 1: Unzip the File\n",
      "with zipfile.ZipFile('images.zip', 'r') as zip_ref:\n",
      "    zip_ref.extractall('images')\n",
      "\n",
      "# Step 3: Combine Images into a PDF\n",
      "pdf = FPDF()\n",
      "\n",
      "image_files = [os.path.join('images', f) for f in os.listdir('images') if f.endswith(('.jpg', '.jpeg'))]\n",
      "\n",
      "for image_file in image_files:\n",
      "    pdf.add_page()\n",
      "    pdf.image(image_file, x=10, y=10, w=190)  # adjust image position and size as needed\n",
      "\n",
      "# Save the PDF file\n",
      "pdf.output('images.pdf', 'F')\n",
      "\n",
      "print(\"PDF file generated successfully!\")\n",
      "```\n",
      "Here's what the code does:\n",
      "\n",
      "1. Unzips the `images.zip` file to a directory named `images` using the `zipfile` module.\n",
      "2. Creates an instance of the `FPDF` class, which is a Python library for generating PDF files.\n",
      "3. Loops through the image files in the `images` directory using `os.listdir` and filters them using `str.endswith` to select only JPEG and JPG files.\n",
      "4. For each image file, adds a new page to the PDF using `pdf.add_page()` and inserts the image using `pdf.image()`. You can adjust the image position and size by modifying the `x`, `y`, and `w` parameters.\n",
      "5. Saves the PDF file to disk using `pdf.output()`.\n",
      "\n",
      "Note: You'll need to install the `fpdf` library if you haven't already. You can do this using `pip install fpdf`. Also, make sure to adjust the image position and size parameters in the `pdf.image()` method to fit your needs.\n"
     ]
    }
   ],
   "source": [
    "print(prompt_output)\n",
    "print(code_output)"
   ]
  },
  {
   "cell_type": "code",
   "execution_count": 71,
   "id": "043dbff5-efaf-40ba-a077-9b00c7b2d69a",
   "metadata": {},
   "outputs": [
    {
     "ename": "ImageOpenError",
     "evalue": "cannot read input image (not jpeg2000). PIL: error reading image: cannot identify image file <_io.BytesIO object at 0x119b1e2a0>",
     "output_type": "error",
     "traceback": [
      "\u001b[0;31m---------------------------------------------------------------------------\u001b[0m",
      "\u001b[0;31mUnidentifiedImageError\u001b[0m                    Traceback (most recent call last)",
      "File \u001b[0;32m/Library/Frameworks/Python.framework/Versions/3.11/lib/python3.11/site-packages/img2pdf.py:1817\u001b[0m, in \u001b[0;36mread_images\u001b[0;34m(rawdata, colorspace, first_frame_only, rot, include_thumbnails)\u001b[0m\n\u001b[1;32m   1816\u001b[0m \u001b[38;5;28;01mtry\u001b[39;00m:\n\u001b[0;32m-> 1817\u001b[0m     imgdata \u001b[38;5;241m=\u001b[39m \u001b[43mImage\u001b[49m\u001b[38;5;241;43m.\u001b[39;49m\u001b[43mopen\u001b[49m\u001b[43m(\u001b[49m\u001b[43mim\u001b[49m\u001b[43m)\u001b[49m\n\u001b[1;32m   1818\u001b[0m \u001b[38;5;28;01mexcept\u001b[39;00m \u001b[38;5;167;01mIOError\u001b[39;00m \u001b[38;5;28;01mas\u001b[39;00m e:\n\u001b[1;32m   1819\u001b[0m     \u001b[38;5;66;03m# test if it is a jpeg2000 image\u001b[39;00m\n",
      "File \u001b[0;32m/Library/Frameworks/Python.framework/Versions/3.11/lib/python3.11/site-packages/PIL/Image.py:3298\u001b[0m, in \u001b[0;36mopen\u001b[0;34m(fp, mode, formats)\u001b[0m\n\u001b[1;32m   3297\u001b[0m \u001b[38;5;28;01mtry\u001b[39;00m:\n\u001b[0;32m-> 3298\u001b[0m     factory, accept \u001b[38;5;241m=\u001b[39m OPEN[i]\n\u001b[1;32m   3299\u001b[0m     result \u001b[38;5;241m=\u001b[39m \u001b[38;5;129;01mnot\u001b[39;00m accept \u001b[38;5;129;01mor\u001b[39;00m accept(prefix)\n",
      "\u001b[0;31mUnidentifiedImageError\u001b[0m: cannot identify image file <_io.BytesIO object at 0x119b1e2a0>",
      "\nDuring handling of the above exception, another exception occurred:\n",
      "\u001b[0;31mImageOpenError\u001b[0m                            Traceback (most recent call last)",
      "Cell \u001b[0;32mIn[71], line 18\u001b[0m\n\u001b[1;32m     14\u001b[0m \u001b[38;5;28;01mfor\u001b[39;00m image_file \u001b[38;5;129;01min\u001b[39;00m image_files:\n\u001b[1;32m     15\u001b[0m     \u001b[38;5;66;03m# Extract the image file from the zip file\u001b[39;00m\n\u001b[1;32m     16\u001b[0m     \u001b[38;5;28;01mwith\u001b[39;00m zip_file\u001b[38;5;241m.\u001b[39mopen(image_file) \u001b[38;5;28;01mas\u001b[39;00m image:\n\u001b[1;32m     17\u001b[0m         \u001b[38;5;66;03m# Convert the image to a PDF page\u001b[39;00m\n\u001b[0;32m---> 18\u001b[0m         pdf_page \u001b[38;5;241m=\u001b[39m \u001b[43mimg2pdf\u001b[49m\u001b[38;5;241;43m.\u001b[39;49m\u001b[43mconvert\u001b[49m\u001b[43m(\u001b[49m\u001b[43mimage\u001b[49m\u001b[38;5;241;43m.\u001b[39;49m\u001b[43mread\u001b[49m\u001b[43m(\u001b[49m\u001b[43m)\u001b[49m\u001b[43m)\u001b[49m\n\u001b[1;32m     19\u001b[0m         \u001b[38;5;66;03m# Add the PDF page to the PDF file\u001b[39;00m\n\u001b[1;32m     20\u001b[0m         pdf_bytes\u001b[38;5;241m.\u001b[39mextend(pdf_page)\n",
      "File \u001b[0;32m/Library/Frameworks/Python.framework/Versions/3.11/lib/python3.11/site-packages/img2pdf.py:2733\u001b[0m, in \u001b[0;36mconvert\u001b[0;34m(*images, **kwargs)\u001b[0m\n\u001b[1;32m   2714\u001b[0m         f\u001b[38;5;241m.\u001b[39mclose()\n\u001b[1;32m   2716\u001b[0m \u001b[38;5;66;03m# md5 = hashlib.md5(rawdata).hexdigest()\u001b[39;00m\n\u001b[1;32m   2717\u001b[0m \u001b[38;5;66;03m# with open(\"./testdata/\" + md5, \"wb\") as f:\u001b[39;00m\n\u001b[1;32m   2718\u001b[0m \u001b[38;5;66;03m#    f.write(rawdata)\u001b[39;00m\n\u001b[1;32m   2720\u001b[0m \u001b[38;5;28;01mfor\u001b[39;00m (\n\u001b[1;32m   2721\u001b[0m     color,\n\u001b[1;32m   2722\u001b[0m     ndpi,\n\u001b[1;32m   2723\u001b[0m     imgformat,\n\u001b[1;32m   2724\u001b[0m     imgdata,\n\u001b[1;32m   2725\u001b[0m     smaskdata,\n\u001b[1;32m   2726\u001b[0m     imgwidthpx,\n\u001b[1;32m   2727\u001b[0m     imgheightpx,\n\u001b[1;32m   2728\u001b[0m     palette,\n\u001b[1;32m   2729\u001b[0m     inverted,\n\u001b[1;32m   2730\u001b[0m     depth,\n\u001b[1;32m   2731\u001b[0m     rotation,\n\u001b[1;32m   2732\u001b[0m     iccp,\n\u001b[0;32m-> 2733\u001b[0m ) \u001b[38;5;129;01min\u001b[39;00m \u001b[43mread_images\u001b[49m\u001b[43m(\u001b[49m\n\u001b[1;32m   2734\u001b[0m \u001b[43m    \u001b[49m\u001b[43mrawdata\u001b[49m\u001b[43m,\u001b[49m\n\u001b[1;32m   2735\u001b[0m \u001b[43m    \u001b[49m\u001b[43mkwargs\u001b[49m\u001b[43m[\u001b[49m\u001b[38;5;124;43m\"\u001b[39;49m\u001b[38;5;124;43mcolorspace\u001b[39;49m\u001b[38;5;124;43m\"\u001b[39;49m\u001b[43m]\u001b[49m\u001b[43m,\u001b[49m\n\u001b[1;32m   2736\u001b[0m \u001b[43m    \u001b[49m\u001b[43mkwargs\u001b[49m\u001b[43m[\u001b[49m\u001b[38;5;124;43m\"\u001b[39;49m\u001b[38;5;124;43mfirst_frame_only\u001b[39;49m\u001b[38;5;124;43m\"\u001b[39;49m\u001b[43m]\u001b[49m\u001b[43m,\u001b[49m\n\u001b[1;32m   2737\u001b[0m \u001b[43m    \u001b[49m\u001b[43mkwargs\u001b[49m\u001b[43m[\u001b[49m\u001b[38;5;124;43m\"\u001b[39;49m\u001b[38;5;124;43mrotation\u001b[39;49m\u001b[38;5;124;43m\"\u001b[39;49m\u001b[43m]\u001b[49m\u001b[43m,\u001b[49m\n\u001b[1;32m   2738\u001b[0m \u001b[43m    \u001b[49m\u001b[43mkwargs\u001b[49m\u001b[43m[\u001b[49m\u001b[38;5;124;43m\"\u001b[39;49m\u001b[38;5;124;43minclude_thumbnails\u001b[39;49m\u001b[38;5;124;43m\"\u001b[39;49m\u001b[43m]\u001b[49m\u001b[43m,\u001b[49m\n\u001b[1;32m   2739\u001b[0m \u001b[43m\u001b[49m\u001b[43m)\u001b[49m:\n\u001b[1;32m   2740\u001b[0m     pagewidth, pageheight, imgwidthpdf, imgheightpdf \u001b[38;5;241m=\u001b[39m kwargs[\u001b[38;5;124m\"\u001b[39m\u001b[38;5;124mlayout_fun\u001b[39m\u001b[38;5;124m\"\u001b[39m](\n\u001b[1;32m   2741\u001b[0m         imgwidthpx, imgheightpx, ndpi\n\u001b[1;32m   2742\u001b[0m     )\n\u001b[1;32m   2744\u001b[0m     userunit \u001b[38;5;241m=\u001b[39m \u001b[38;5;28;01mNone\u001b[39;00m\n",
      "File \u001b[0;32m/Library/Frameworks/Python.framework/Versions/3.11/lib/python3.11/site-packages/img2pdf.py:1829\u001b[0m, in \u001b[0;36mread_images\u001b[0;34m(rawdata, colorspace, first_frame_only, rot, include_thumbnails)\u001b[0m\n\u001b[1;32m   1827\u001b[0m         imgformat \u001b[38;5;241m=\u001b[39m ImageFormat\u001b[38;5;241m.\u001b[39mMIFF\n\u001b[1;32m   1828\u001b[0m     \u001b[38;5;28;01melse\u001b[39;00m:\n\u001b[0;32m-> 1829\u001b[0m         \u001b[38;5;28;01mraise\u001b[39;00m ImageOpenError(\n\u001b[1;32m   1830\u001b[0m             \u001b[38;5;124m\"\u001b[39m\u001b[38;5;124mcannot read input image (not jpeg2000). \u001b[39m\u001b[38;5;124m\"\u001b[39m\n\u001b[1;32m   1831\u001b[0m             \u001b[38;5;124m\"\u001b[39m\u001b[38;5;124mPIL: error reading image: \u001b[39m\u001b[38;5;132;01m%s\u001b[39;00m\u001b[38;5;124m\"\u001b[39m \u001b[38;5;241m%\u001b[39m e\n\u001b[1;32m   1832\u001b[0m         )\n\u001b[1;32m   1833\u001b[0m \u001b[38;5;28;01melse\u001b[39;00m:\n\u001b[1;32m   1834\u001b[0m     logger\u001b[38;5;241m.\u001b[39mdebug(\u001b[38;5;124m\"\u001b[39m\u001b[38;5;124mPIL format = \u001b[39m\u001b[38;5;132;01m%s\u001b[39;00m\u001b[38;5;124m\"\u001b[39m, imgdata\u001b[38;5;241m.\u001b[39mformat)\n",
      "\u001b[0;31mImageOpenError\u001b[0m: cannot read input image (not jpeg2000). PIL: error reading image: cannot identify image file <_io.BytesIO object at 0x119b1e2a0>"
     ]
    }
   ],
   "source": [
    "import zipfile\n",
    "import img2pdf\n",
    "import os\n",
    "\n",
    "# Open the zip file\n",
    "with zipfile.ZipFile('images.zip', 'r') as zip_file:\n",
    "    # Extract the image files from the zip file\n",
    "    image_files = [file for file in zip_file.namelist() if file.endswith(('.jpg', '.jpeg'))]\n",
    "    \n",
    "    # Create a new PDF file\n",
    "    pdf_bytes = bytearray()\n",
    "    \n",
    "    # Add each image to the PDF file\n",
    "    for image_file in image_files:\n",
    "        # Extract the image file from the zip file\n",
    "        with zip_file.open(image_file) as image:\n",
    "            # Convert the image to a PDF page\n",
    "            pdf_page = img2pdf.convert(image.read())\n",
    "            # Add the PDF page to the PDF file\n",
    "            pdf_bytes.extend(pdf_page)\n",
    "    \n",
    "    # Save the PDF file\n",
    "    with open('images.pdf', 'wb') as pdf_file:\n",
    "        pdf_file.write(pdf_bytes)"
   ]
  },
  {
   "cell_type": "code",
   "execution_count": null,
   "id": "346c8caf-bbe9-4065-b5ae-82e20331c5a0",
   "metadata": {},
   "outputs": [],
   "source": []
  }
 ],
 "metadata": {
  "kernelspec": {
   "display_name": "Python 3 (ipykernel)",
   "language": "python",
   "name": "python3"
  },
  "language_info": {
   "codemirror_mode": {
    "name": "ipython",
    "version": 3
   },
   "file_extension": ".py",
   "mimetype": "text/x-python",
   "name": "python",
   "nbconvert_exporter": "python",
   "pygments_lexer": "ipython3",
   "version": "3.11.3"
  }
 },
 "nbformat": 4,
 "nbformat_minor": 5
}
